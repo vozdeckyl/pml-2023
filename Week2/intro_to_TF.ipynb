{
 "cells": [
  {
   "cell_type": "markdown",
   "id": "3885ed30",
   "metadata": {},
   "source": [
    "# Introduction to TensorFlow 2 #"
   ]
  },
  {
   "cell_type": "markdown",
   "id": "7267ce7f",
   "metadata": {},
   "source": [
    "Tensorflow, like math or numpy, is a package- a directory-organized set of modules to structure its namespace. A module is just a python script that contains methods and attributes that allow us to make computations. Tensorflow shares similar concepts to numpy but also introduces many of the tools needed to perform machine learning.\n",
    "\n",
    "A quick introduction can also been found at https://www.tensorflow.org/tutorials/quickstart/beginner."
   ]
  },
  {
   "cell_type": "code",
   "execution_count": null,
   "id": "7b366c80",
   "metadata": {},
   "outputs": [],
   "source": [
    "import numpy as np\n",
    "import matplotlib.pyplot as plt\n",
    "%matplotlib inline\n",
    "\n",
    "# # If plots are not being outputted and Kernel quitting, try uncommenting the two lines below.\n",
    "#import os\n",
    "#os.environ[\"KMP_DUPLICATE_LIB_OK\"]=\"TRUE\"\n",
    "\n",
    "import tensorflow as tf\n",
    "print(tf.version)"
   ]
  },
  {
   "cell_type": "markdown",
   "id": "d3466c09",
   "metadata": {},
   "source": [
    "First: check that running the cell above gives you tensorflow v2, from the tf2.11 environment.  Now let's declare some constants:"
   ]
  },
  {
   "cell_type": "code",
   "execution_count": null,
   "id": "ed77ea89",
   "metadata": {},
   "outputs": [],
   "source": [
    "# constants\n",
    "?tf.constant # opens docstring\n",
    "a = tf.constant(3.0, dtype=tf.float32)\n",
    "b = tf.constant([1, 2, 3, 4, 5, 6, 7, 8, 9, 10], dtype=tf.float32)\n",
    "\n",
    "x = np.array([[1, 2], [3, 4]])\n",
    "c = tf.constant(x)\n",
    "\n",
    "d = tensor = tf.constant(-1.0, shape=[2, 2])"
   ]
  },
  {
   "cell_type": "markdown",
   "id": "06de1d0a",
   "metadata": {},
   "source": [
    "**Print the contents of a,b,c and d.  Now look up the documentation for tf.rank and tf.shape and find the rank and shape of c**"
   ]
  },
  {
   "cell_type": "code",
   "execution_count": null,
   "id": "ba844891",
   "metadata": {},
   "outputs": [],
   "source": []
  },
  {
   "cell_type": "markdown",
   "id": "596e52f0",
   "metadata": {},
   "source": [
    "**What are rank and shape telling you about the tensor? Write your answer in the comment below.**"
   ]
  },
  {
   "cell_type": "code",
   "execution_count": null,
   "id": "d01a53fb",
   "metadata": {},
   "outputs": [],
   "source": [
    "#"
   ]
  },
  {
   "cell_type": "markdown",
   "id": "5717020c",
   "metadata": {},
   "source": [
    "Define another tensor \"e\"."
   ]
  },
  {
   "cell_type": "code",
   "execution_count": null,
   "id": "70610a18",
   "metadata": {},
   "outputs": [],
   "source": [
    "e=tf.constant([[[1,2,3],\n",
    "                [4,5,6]],\n",
    "               [[7,8,9],\n",
    "               [10,11,12]]])"
   ]
  },
  {
   "cell_type": "markdown",
   "id": "635421d4",
   "metadata": {},
   "source": [
    "**Try to access different elements within the tensor e. This will help you to understand the basic structure of tensors.** "
   ]
  },
  {
   "cell_type": "code",
   "execution_count": null,
   "id": "630d523f",
   "metadata": {},
   "outputs": [],
   "source": []
  },
  {
   "cell_type": "markdown",
   "id": "e9b50b26",
   "metadata": {},
   "source": [
    "Now let's look at variables"
   ]
  },
  {
   "cell_type": "code",
   "execution_count": null,
   "id": "ec429caa",
   "metadata": {},
   "outputs": [],
   "source": [
    "# variables\n",
    "?tf.Variable # opens docstring\n",
    "tensorVar = tf.Variable([1, 2, 3, 4, 5, 6, 7, 8, 9, 10], name=\"tensorVar\")"
   ]
  },
  {
   "cell_type": "markdown",
   "id": "6e3a0c5e",
   "metadata": {},
   "source": [
    "**Print tensorVar, and then use tensorVar.assign to make a tensor containing tensorVar+1 (i.e. [2,3...11])**"
   ]
  },
  {
   "cell_type": "code",
   "execution_count": null,
   "id": "b3811379",
   "metadata": {},
   "outputs": [],
   "source": [
    "# There are two ways to add, try them both. See https://www.tensorflow.org/api_docs/python/tf/Variable, or the docstrings below\n",
    "?tf.Variable.assign_add\n",
    "?tf.Variable.assign"
   ]
  },
  {
   "cell_type": "code",
   "execution_count": null,
   "id": "1d9181d4",
   "metadata": {},
   "outputs": [],
   "source": []
  },
  {
   "cell_type": "markdown",
   "id": "39cd1602",
   "metadata": {},
   "source": [
    "**What is the main difference between a tf.constant and a tf.Variable? Write your answer in the comment below.**"
   ]
  },
  {
   "cell_type": "code",
   "execution_count": null,
   "id": "b24ad80e",
   "metadata": {},
   "outputs": [],
   "source": [
    "# "
   ]
  },
  {
   "cell_type": "markdown",
   "id": "3ca56eb6",
   "metadata": {},
   "source": [
    "Various mathematical operations are available:"
   ]
  },
  {
   "cell_type": "code",
   "execution_count": null,
   "id": "b896f367",
   "metadata": {},
   "outputs": [],
   "source": [
    "a        = tf.constant(3.0, dtype=tf.float32)\n",
    "b        = tf.constant(4.0) # also tf.float32 implicitly\n",
    "total    = a + b\n",
    "product  = a * b\n",
    "quotient = a/b\n",
    "srt      = tf.sqrt(a) # scalar\n",
    "c        = tf.constant([1, 2, 3, 4, 5, 6, 7, 8, 9, 10], dtype=tf.float32) # rank 1 tensor \n",
    "d        = tf.constant([[1], [2], [3], [4], [5], [6], [7], [8], [9], [10]], dtype=tf.float32) # rank 2 tensor\n",
    "aquotient= c/d    # compute a rank 2 Tensor for this division\n",
    "print(\"a           = \", a)\n",
    "print(\"b           = \", b)\n",
    "print(\"Total       = \", total)\n",
    "print(\"Product     = \", product)\n",
    "print(\"sqrt(a)     = \", srt)\n",
    "print(\"N=(1,...10) = \", c)\n",
    "print(\"sqrt(c)     = \", tf.sqrt(c))\n",
    "print(\"sqrt(d)     = \", tf.sqrt(d))"
   ]
  },
  {
   "cell_type": "markdown",
   "id": "2ce8e9d7",
   "metadata": {},
   "source": [
    "In addition to element wise operations that are defined, TensorFlow has a number of figure of merit (metric) computations defined.  For some data (this example uses a numpy array, it also works with tensors) we can compute the sum, mean, product … of the elements"
   ]
  },
  {
   "cell_type": "code",
   "execution_count": null,
   "id": "fad4eb5c",
   "metadata": {},
   "outputs": [],
   "source": [
    "# generate some data and perform calculations on this\n",
    "Ngen = 10\n",
    "min_x = 1\n",
    "max_x = 10\n",
    "data = tf.random.uniform([Ngen, 1], min_x, max_x,seed=1)  # training set\n",
    "\n",
    "data_sqrt = np.sqrt(data)\n",
    "\n",
    "# the following are tensor outputs\n",
    "print(\"data           = \",data)\n",
    "print(\"sqrt(data)     = \",data_sqrt)"
   ]
  },
  {
   "cell_type": "markdown",
   "id": "7a14f588",
   "metadata": {},
   "source": [
    "Notice the shape of the data tensor: (10,1). So it is actually rank 2. This is essentially a matrix where we have 10 rows, and 1 column. Again, we can check this information with tf.rank as below."
   ]
  },
  {
   "cell_type": "code",
   "execution_count": null,
   "id": "cb0e025f",
   "metadata": {},
   "outputs": [],
   "source": [
    "print(tf.rank(data_sqrt))"
   ]
  },
  {
   "cell_type": "markdown",
   "id": "94146352",
   "metadata": {},
   "source": [
    "**Look up the reduce functions in TensorFlow and use them to print the sum, mean, product, maximum and minimum of the data**\n",
    "\n",
    "(Note: even though the information for these methods/functions is given in the tf.math.reduce_ doc, they have aliases which allows us to drop the .math method inbetween. See https://www.tensorflow.org/api_docs/python/tf/math#modules.)"
   ]
  },
  {
   "cell_type": "code",
   "execution_count": null,
   "id": "c4fa4cec",
   "metadata": {},
   "outputs": [],
   "source": []
  },
  {
   "cell_type": "markdown",
   "id": "ebb3eeb4",
   "metadata": {},
   "source": [
    "An important tip when dealing with tensorflow tensors, is that if we wish to extract the array/numerical value from the tensor, we can call method .numpy() on it, e.g. tf.reduce_sum(data).numpy(), and the sum value will be extracted. To see this, run the cell below."
   ]
  },
  {
   "cell_type": "code",
   "execution_count": null,
   "id": "7451cbbc",
   "metadata": {},
   "outputs": [],
   "source": [
    "print(tf.reduce_sum(data))\n",
    "print(tf.reduce_sum(data).numpy())"
   ]
  },
  {
   "cell_type": "markdown",
   "id": "268ae6b9",
   "metadata": {},
   "source": [
    "We can also do matrix multiplication:"
   ]
  },
  {
   "cell_type": "code",
   "execution_count": null,
   "id": "56d3f25e",
   "metadata": {},
   "outputs": [],
   "source": [
    "# generate some data and perform calculations on this\n",
    "I = tf.constant([[1, 0, 0],[0, 1, 0],[0, 0, 1]], name=\"A\")\n",
    "A = tf.constant([[1, 0, -1],[0, 1, 0],[-1, 0, 1]], name=\"A\")\n",
    "B = tf.constant([[1, 2, 3],[4, 5, 6],[7, 8, 9]], name=\"B\")\n",
    "C = tf.matmul(A, B)\n",
    "D = tf.matmul(B, A)\n",
    "\n",
    "print(\"A       = \", A)\n",
    "print(\"B       = \", B)\n",
    "print(\"\\nC = A.B = \", C)\n",
    "print(\"\\nD = B.A = \", D)"
   ]
  },
  {
   "cell_type": "markdown",
   "id": "b38ee05c",
   "metadata": {},
   "source": [
    "**By looking at A.I, I.A, B.I and I.B, verify that I is acting as the identity matrix**"
   ]
  },
  {
   "cell_type": "code",
   "execution_count": null,
   "id": "2f099676",
   "metadata": {},
   "outputs": [],
   "source": []
  },
  {
   "cell_type": "markdown",
   "id": "d778146f",
   "metadata": {},
   "source": [
    "**Use tensorflow (not numpy) to generate data for three different distributions and plot the data as histograms.  Generate 10000 data from: a normal distribution with mean=3.0, sigma=1.0, a uniform distribution between 0 and 5 and the square root of the previous uniform distribution.**"
   ]
  },
  {
   "cell_type": "code",
   "execution_count": null,
   "id": "cb0d3dbe",
   "metadata": {},
   "outputs": [],
   "source": [
    "Ngen = 10000\n"
   ]
  },
  {
   "cell_type": "code",
   "execution_count": null,
   "id": "cb95a780",
   "metadata": {},
   "outputs": [],
   "source": [
    "# now plot the gaussian distribution"
   ]
  },
  {
   "cell_type": "code",
   "execution_count": null,
   "id": "9f895b80",
   "metadata": {},
   "outputs": [],
   "source": [
    "# now plot - the uniform distribution"
   ]
  },
  {
   "cell_type": "code",
   "execution_count": null,
   "id": "6d098ff6",
   "metadata": {},
   "outputs": [],
   "source": [
    "# now plot - the sqrt(uniform) distribution"
   ]
  },
  {
   "cell_type": "markdown",
   "id": "2a4a9b9a",
   "metadata": {},
   "source": [
    "**CHECKPOINT - Get a demonstrator to look at your work!**"
   ]
  },
  {
   "cell_type": "markdown",
   "id": "00b02efe",
   "metadata": {},
   "source": [
    "**Bonus task - can you make the same distributions with numpy and compare them?**"
   ]
  }
 ],
 "metadata": {
  "kernelspec": {
   "display_name": "Python 3 (ipykernel)",
   "language": "python",
   "name": "python3"
  },
  "language_info": {
   "codemirror_mode": {
    "name": "ipython",
    "version": 3
   },
   "file_extension": ".py",
   "mimetype": "text/x-python",
   "name": "python",
   "nbconvert_exporter": "python",
   "pygments_lexer": "ipython3",
   "version": "3.8.16"
  }
 },
 "nbformat": 4,
 "nbformat_minor": 5
}
