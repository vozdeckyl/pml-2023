{
 "cells": [
  {
   "cell_type": "markdown",
   "metadata": {},
   "source": [
    "# Python 2\n",
    "\n",
    "In today's lab we'll revise some more Python fundamentals as well as learn how to plot simple diagrams."
   ]
  },
  {
   "cell_type": "markdown",
   "metadata": {},
   "source": [
    "## Importing from modules\n",
    "\n",
    "Python allows programmers to bundle up collections of variables, functions, and other objects such as classes into *modules* that can easily be imported into other projects. One reason Python is such an attractive programming language is the enormous library of modules to help with almost any imaginable type of calculation.\n",
    "\n",
    "There are a few variations on the syntax to import part or all of a module. These make more sense when discussing a particular example, so let's take the case of the square root function `sqrt()`. As we saw last lab, this isn't included by default when Python is loaded, but is available in the `math` module.\n",
    "\n",
    "* `import math` will import the whole `math` module. The `sqrt()` function will be available by typing `math.sqrt()`.\n",
    "* `import math as m` will do the same, but calling the module `m` instead: *i.e.*, you should type `m.sqrt()`. This is convenient if you will use many parts of the module and/or it has a long name.\n",
    "* `from math import sqrt` will import *only* the `sqrt()` function. It will be available without any prefix (*i.e.*, you should just type `sqrt()`). We say that this function has been imported into the *main namespace*.\n",
    "\n",
    "You can type `from math import *` to import *all* of the parts of a module into the main namespace. However, this isn't recommended usage, because it can have unintended consequences. To see what can happen, **evaluate the following code.** Can you explain the output?"
   ]
  },
  {
   "cell_type": "code",
   "execution_count": null,
   "metadata": {},
   "outputs": [],
   "source": [
    "d = 2\n",
    "e = 3\n",
    "from math import *\n",
    "\n",
    "d*e"
   ]
  },
  {
   "cell_type": "markdown",
   "metadata": {},
   "source": [
    "Now go to the `Kernel` menu at the top of the page and click `Restart` to clear the effects of that `import`!"
   ]
  },
  {
   "cell_type": "markdown",
   "metadata": {},
   "source": [
    "## Visualisation\n",
    "\n",
    "Modern computers have made visualisation so easy that it should be the first step of almost any data analysis: it is far easier to see what is going on from a picture than from, say, a table of numbers.\n",
    "\n",
    "We will use the `matplotlib` package to make pictures, which plays very nicely with Jupyter notebooks. In fact in this lab we will specifically be using the `pylab` module: this is designed to behave similarly to MATLAB plotting, and contains all the functionality we will need for now.\n",
    "\n",
    "Let's start by evaluating a \"magic\" command that allows plots to be written directly to our notebook:"
   ]
  },
  {
   "cell_type": "code",
   "execution_count": null,
   "metadata": {},
   "outputs": [],
   "source": [
    "%matplotlib notebook "
   ]
  },
  {
   "cell_type": "markdown",
   "metadata": {},
   "source": [
    "Note that we only need to do this once: then plots will be displayed “inline” for the rest of the session.\n",
    "\n",
    "Next, we need to import the `plot` and `figure` functions:"
   ]
  },
  {
   "cell_type": "code",
   "execution_count": null,
   "metadata": {},
   "outputs": [],
   "source": [
    "from pylab import figure, plot "
   ]
  },
  {
   "cell_type": "markdown",
   "metadata": {},
   "source": [
    "Now we just need some data to plot! We will generate this at the same time as revising `while` loops by investigating the [*Collatz conjecture*](https://en.wikipedia.org/wiki/Collatz_conjecture). This involves a simple rule for generating a sequence of integers:\n",
    "\n",
    "- If $n_0$ is even, halve it: $n_1 = n_0/2$.\n",
    "- If $n_0$ is odd, multiply by three and add one: $n_1 = 3n_0 + 1$.\n",
    "\n",
    "We generate $n_2$ from $n_1$ in the same way, and so on. The conjecture is that no matter what the starting value, the sequence will eventually reach 1. This has never been proven true, nor has any counterexample been found.\n",
    "\n",
    "**Complete the following code for a function to perform one Collatz step.**"
   ]
  },
  {
   "cell_type": "code",
   "execution_count": null,
   "metadata": {},
   "outputs": [],
   "source": [
    "def collatz_step(n):\n",
    "    \"\"\"Returns the next step in the Collatz sequence, starting from n.\"\"\"  "
   ]
  },
  {
   "cell_type": "markdown",
   "metadata": {},
   "source": [
    "Now we can use a `while` loop to see a sample sequence. **Write a `while` loop that will set `n` to the next value given by `collatz_step` until it reaches 1.**"
   ]
  },
  {
   "cell_type": "code",
   "execution_count": null,
   "metadata": {},
   "outputs": [],
   "source": [
    "   "
   ]
  },
  {
   "cell_type": "markdown",
   "metadata": {},
   "source": [
    "You can see that, because the numbers can either increase or decrease, it's not obvious in advance how many steps will be taken to reach zero.\n",
    "\n",
    "**Experiment with starting with some different values.**\n",
    "\n",
    "**Find the value of $n \\leq 1000$ that takes the greatest number of steps to reach 1.**\n",
    "\n",
    "▶ **CHECKPOINT 1**"
   ]
  },
  {
   "cell_type": "code",
   "execution_count": null,
   "metadata": {},
   "outputs": [],
   "source": [
    "#complete"
   ]
  },
  {
   "cell_type": "markdown",
   "metadata": {},
   "source": [
    "This sequence would be easier to understand if we could visualise its trajectory. Let’s record each number that the sequence passes through on its way to 1.\n",
    "\n",
    "**Modify your `while` loop to create a list of every number in the Collatz sequence, starting from the value of $n$ you determined above.**\n",
    "\n",
    "*Hint:* Start by creating a list `collatz_history = [n]`, where `n` is the starting number; then use the `append` function to add an item to this list for every cycle through the loop."
   ]
  },
  {
   "cell_type": "code",
   "execution_count": null,
   "metadata": {},
   "outputs": [],
   "source": []
  },
  {
   "cell_type": "markdown",
   "metadata": {},
   "source": [
    "Let’s examine that list:"
   ]
  },
  {
   "cell_type": "code",
   "execution_count": null,
   "metadata": {},
   "outputs": [],
   "source": [
    "print(collatz_history)"
   ]
  },
  {
   "cell_type": "markdown",
   "metadata": {},
   "source": [
    "Impressive, but it would be much easier to understand if we plotted it..."
   ]
  },
  {
   "cell_type": "code",
   "execution_count": null,
   "metadata": {},
   "outputs": [],
   "source": [
    "figure()\n",
    "plot(collatz_history) "
   ]
  },
  {
   "cell_type": "markdown",
   "metadata": {},
   "source": [
    "That gives a much better picture of what is going on: you can see how the value gradually rises until the sequence hits a number that is a multiple of some high power of 2, when the \"halving\" step makes it decrease rapidly. You can **try zooming in to the plot using the \"rectangle\" tool and returning to the original view using the \"home\" button. When you are finished, press the \"power\" button in the top right of the figure (next to the title)** to indicate that you no longer wish to change the figure. \n",
    "\n",
    "(You don’t actually even need the `figure` function above; the `plot` function will make a new figure if none is open, or plot to the most recent figure if it is still open for input: that is, if you haven’t yet pressed that “power” button. Because this can be confusing if the most recent figure is a long way back in the notebook, I recommend always explicitly creating a new figure with `figure` if you want one.)\n",
    "\n",
    "You can see that the `plot` function called with just a list as argument plots that list against the sequence number (that is, the first element is plotted at $x = 0$, the second at $x = 1$, and so forth).\n",
    "\n",
    "The `plot` function can also take a string argument that specifies how to format the plot. Some codes you can use are listed in the table below (full list in the [documentation](https://matplotlib.org/api/_as_gen/matplotlib.pyplot.plot.html)); you can specify the colour, marker style, line style, or any combination of these.\n",
    "\n",
    " character | meaning \n",
    "--------| ------\n",
    "`'b'` |\tblue\n",
    "`'g'` |\tgreen\n",
    "`'r'` |\tred\n",
    "`'k'` |\tblack\n",
    "`'.'` |\tpoint marker\n",
    "`'o'` |\tcircle marker\n",
    "`'s'` |\tsquare marker\n",
    "`'*'` |\tstar marker\n",
    "`'+'` |\tplus marker\n",
    "`'x'` |\tx marker\n",
    "`'-'` |\tsolid line style\n",
    "`'--'`| \tdashed line style\n",
    "`'-.'`| \tdash-dot line style\n",
    "`':'` |\tdotted line style\n",
    "\n",
    "Try using this to plot the Collatz sequence starting from 12, using red circles joined by a dashed line. The syntax you want is `plot(list, format_string)`."
   ]
  },
  {
   "cell_type": "code",
   "execution_count": null,
   "metadata": {},
   "outputs": [],
   "source": [
    "plot(collatz_history,'ro')"
   ]
  },
  {
   "cell_type": "markdown",
   "metadata": {},
   "source": [
    "Let's now consider how to plot a mathematical function. By far the easiest way to do this involves a new data type, provided by the `numpy` package, called an `array`. We will actually generate the array using the `linspace()` function, and the function we want to plot (say) is $\\cos(x)$, or `cos()`. For convenience, all of these functions are available in the `pylab` module:"
   ]
  },
  {
   "cell_type": "code",
   "execution_count": null,
   "metadata": {},
   "outputs": [],
   "source": [
    "from pylab import linspace, pi, cos"
   ]
  },
  {
   "cell_type": "markdown",
   "metadata": {},
   "source": [
    "Suppose we want to plot $\\cos x$ from $-2\\pi$ to $2\\pi$. The first step is to generate a set of $x$ values in this range, which is the job of `linspace`. We can get 50 evenly spaced $x$ points by:"
   ]
  },
  {
   "cell_type": "code",
   "execution_count": null,
   "metadata": {},
   "outputs": [],
   "source": [
    "x = linspace(-2*pi, 2*pi, 50)"
   ]
  },
  {
   "cell_type": "markdown",
   "metadata": {
    "slideshow": {
     "slide_type": "slide"
    }
   },
   "source": [
    "If you evaluate a cell containing simply `x`, you will see that this is an `array`: "
   ]
  },
  {
   "cell_type": "code",
   "execution_count": null,
   "metadata": {},
   "outputs": [],
   "source": [
    "x"
   ]
  },
  {
   "cell_type": "markdown",
   "metadata": {
    "slideshow": {
     "slide_type": "slide"
    }
   },
   "source": [
    "One key feature of this data type is that *we can apply mathematical functions to every element at once.* So to calculate our `y` values, we simply type:"
   ]
  },
  {
   "cell_type": "code",
   "execution_count": null,
   "metadata": {},
   "outputs": [],
   "source": [
    "y = cos(x)"
   ]
  },
  {
   "cell_type": "markdown",
   "metadata": {},
   "source": [
    "Then plotting is as simple as"
   ]
  },
  {
   "cell_type": "code",
   "execution_count": null,
   "metadata": {},
   "outputs": [],
   "source": [
    "figure()\n",
    "plot(x,y)"
   ]
  },
  {
   "cell_type": "markdown",
   "metadata": {},
   "source": [
    "**Using this functionality, plot $y = \\tanh(x)$ from –5 to 5. Put gridlines on your graph.** \n",
    "\n",
    "*Hint:* you can import almost any mathematical function you can think of, including `tanh()`, from `pylab`, and the `grid()` function from the same module will apply gridlines."
   ]
  },
  {
   "cell_type": "code",
   "execution_count": null,
   "metadata": {
    "scrolled": false
   },
   "outputs": [],
   "source": []
  },
  {
   "cell_type": "markdown",
   "metadata": {},
   "source": [
    "The `numpy` package and `array` type are very useful in scientific analysis and we will repeatedly return to them during this module.\n",
    "\n",
    "▶ **CHECKPOINT 2**\n",
    "\n",
    "We now return to further features of the Python standard library."
   ]
  },
  {
   "cell_type": "markdown",
   "metadata": {},
   "source": [
    "## Data types, continued\n",
    "\n",
    "### Dicts\n",
    "\n",
    "A `dict` (dictionary) is a set of *keys*, each of which has a *value*. Syntatically, these are written using curly brackets `{}`. The keys can be used to index the dict in the same way that numbers are used to index lists and tuples. This can be useful if we want to store information associated with, say, a particular name or ID number:"
   ]
  },
  {
   "cell_type": "code",
   "execution_count": null,
   "metadata": {},
   "outputs": [],
   "source": [
    "bank_account = {'Anthony': -0.42, 'Basil': 109287.29}\n",
    "print(bank_account['Anthony'])"
   ]
  },
  {
   "cell_type": "markdown",
   "metadata": {},
   "source": [
    "Note that dicts do *not* have a guaranteed order, and cannot therefore be indexed by number (unless of course we have specifically defined that number as a key):"
   ]
  },
  {
   "cell_type": "code",
   "execution_count": null,
   "metadata": {},
   "outputs": [],
   "source": [
    "bank_account[0]"
   ]
  },
  {
   "cell_type": "markdown",
   "metadata": {},
   "source": [
    "If we try to loop through a dict in the same way as for a list, our variable runs through the *keys* of the dict:"
   ]
  },
  {
   "cell_type": "code",
   "execution_count": null,
   "metadata": {
    "scrolled": false
   },
   "outputs": [],
   "source": [
    "day_length = { # planetary day length in hours\n",
    "\"Mercury\": 1408, \n",
    "\"Venus\": 5832, \n",
    "\"Earth\": 24, \n",
    "\"Mars\": 25, \n",
    "\"Jupiter\": 10, \n",
    "\"Saturn\": 11, \n",
    "\"Uranus\": 17, \n",
    "\"Neptune\": 16 \n",
    "}\n",
    "\n",
    "for planet in day_length:\n",
    "    print(\"The day on\", planet, \"is\", day_length[planet], \"Earth hours long.\")"
   ]
  },
  {
   "cell_type": "markdown",
   "metadata": {},
   "source": [
    "You can add new keys to a dict simply by referring to them as if they already exist:"
   ]
  },
  {
   "cell_type": "code",
   "execution_count": null,
   "metadata": {},
   "outputs": [],
   "source": [
    "day_length['Pluto'] = 153 # Maintain the rage!"
   ]
  },
  {
   "cell_type": "markdown",
   "metadata": {},
   "source": [
    "Comprehensions work in a similar way: for instance, we could create a (rather trivial) dict of even and odd numbers using the following dict comprehension:"
   ]
  },
  {
   "cell_type": "code",
   "execution_count": null,
   "metadata": {},
   "outputs": [],
   "source": [
    "even = {i: i % 2 == 0 for i in range(10)} # the % operator gives the remainder after division by an integer\n",
    "print(even)"
   ]
  },
  {
   "cell_type": "markdown",
   "metadata": {},
   "source": [
    "**Write a function to create a `dict` whose keys are the characters that occur in a string, and whose values are the number of times those characters occur.**\n",
    "\n",
    "*Hint*: Using a `for` loop to loop through a string will set the loop variable to each character in turn. That is, if I start a loop by `for ch in \"Hello\":`, then the first time through the loop `ch` will be `'H'`, the second time `'e'`, and so forth.\n",
    "\n",
    "*Example input*: `count_characters(\"The rain in Spain falls mainly on the plain.\")` should return\n",
    "\n",
    "    {' ': 8,\n",
    "     '.': 1,\n",
    "     'S': 1,\n",
    "     'T': 1,\n",
    "     'a': 5,\n",
    "     'e': 2,\n",
    "     'f': 1,\n",
    "     'h': 2,\n",
    "     'i': 5,\n",
    "     'l': 4,\n",
    "     'm': 1,\n",
    "     'n': 6,\n",
    "     'o': 1,\n",
    "     'p': 2,\n",
    "     'r': 1,\n",
    "     's': 1,\n",
    "     't': 1,\n",
    "     'y': 1}"
   ]
  },
  {
   "cell_type": "code",
   "execution_count": null,
   "metadata": {},
   "outputs": [],
   "source": [
    "   "
   ]
  },
  {
   "cell_type": "markdown",
   "metadata": {},
   "source": [
    "### Sets\n",
    "\n",
    "A `set` can only have one copy of each element, and again doesn't have any order. Sets are also made using curly brackets `{}`, but without any keys:"
   ]
  },
  {
   "cell_type": "code",
   "execution_count": null,
   "metadata": {},
   "outputs": [],
   "source": [
    "favourite_letters = {'a', 'b', 'a', 'a', 'c'}\n",
    "print(favourite_letters)"
   ]
  },
  {
   "cell_type": "markdown",
   "metadata": {},
   "source": [
    "One reason to use them where appropriate is that sets are quicker to search through than lists:"
   ]
  },
  {
   "cell_type": "code",
   "execution_count": null,
   "metadata": {},
   "outputs": [],
   "source": [
    "my_list = ['a', 'b', 'a', 'a', 'c']\n",
    "my_set = set(my_list) # another way of making a set\n",
    "\n",
    "%timeit 'c' in my_list\n",
    "%timeit 'c' in my_set"
   ]
  },
  {
   "cell_type": "markdown",
   "metadata": {},
   "source": [
    "You should find that it takes less time to search for `'c'` in the set than in the list; this time difference becomes more significant when the size of the set grows."
   ]
  },
  {
   "cell_type": "markdown",
   "metadata": {
    "collapsed": true
   },
   "source": [
    "## Format strings\n",
    "\n",
    "This final section is really a matter of aesthetics – but it's nice to be able to make output look well-laid out and professional!\n",
    "\n",
    "The `format()` function is a string *method* – a function that applies only to strings. It replaces curly brackets `{}` in the string with the values of its arguments. Consider the following simple example:"
   ]
  },
  {
   "cell_type": "code",
   "execution_count": null,
   "metadata": {},
   "outputs": [],
   "source": [
    "\"{} is a moon of {}\".format(\"Io\", \"Jupiter\")"
   ]
  },
  {
   "cell_type": "markdown",
   "metadata": {},
   "source": [
    "You can include information in the curly brackets to specify exactly how a value should be converted to a string. This information always comes after a colon `:` and ends with a letter specifying the sort of number that should be printed. Common examples include \n",
    "\n",
    "Letter | Meaning\n",
    "------ | -------\n",
    "   `f` | floating-point number, usual notation\n",
    "   `e` | floating-point number, scientific notation\n",
    "   `d` | integer, decimal\n",
    "   `s` | string\n",
    "\n",
    "In between, we can specify the number of spaces that should be left to print the number and, where relevant, the number of decimal places that should be used:"
   ]
  },
  {
   "cell_type": "code",
   "execution_count": null,
   "metadata": {},
   "outputs": [],
   "source": [
    "from numpy import pi\n",
    "\n",
    "print(\"pi  = {}\".format(pi))         # no special format information given\n",
    "print(\"pi  = {:10.5f}\".format(pi))   # float, 10 spaces, 5 decimal places\n",
    "print(\"pi  = {:8.2f}\".format(pi))    # float, 8 spaces, 2 decimal places\n",
    "print(\"pi  = {:8.2e}\".format(pi))    # float, scientific notation, 8 spaces, 2 decimal places\n",
    "print(\"pi  > {:8d}\".format(3))       # decimal integer, 8 spaces\n",
    "print(\"pie = {:8s}\".format('apple')) # string, 8 spaces (by default left-aligned)"
   ]
  },
  {
   "cell_type": "markdown",
   "metadata": {},
   "source": [
    "Put this all together by using an appropriate loop together with the `format` function to **print the following data set**, using the `format` function to ensure that the data lines up attractively."
   ]
  },
  {
   "cell_type": "code",
   "execution_count": null,
   "metadata": {},
   "outputs": [],
   "source": [
    "element_densities = { # densities in g.cm^-3\n",
    "    'Li': 0.534,\n",
    "    'Be': 1.8477,\n",
    "    'B' : 2.34,\n",
    "    'C' : 2.267, \n",
    "    'Na': 0.968,\n",
    "    'Mg': 1.738,\n",
    "    'Al': 2.70\n",
    "} \n",
    "\n",
    "print('Element Densities in g.cm^-3 :')"
   ]
  },
  {
   "cell_type": "markdown",
   "metadata": {},
   "source": [
    "▶ **CHECKPOINT 3**"
   ]
  },
  {
   "cell_type": "markdown",
   "metadata": {},
   "source": [
    "**Extension:** return to your Collatz conjecture code and **find the value of $n \\leq 1000$ that reaches the *highest number*** before returning to 1. What is this highest number?"
   ]
  },
  {
   "cell_type": "code",
   "execution_count": null,
   "metadata": {},
   "outputs": [],
   "source": []
  }
 ],
 "metadata": {
  "kernelspec": {
   "display_name": "Python 3 (ipykernel)",
   "language": "python",
   "name": "python3"
  },
  "language_info": {
   "codemirror_mode": {
    "name": "ipython",
    "version": 3
   },
   "file_extension": ".py",
   "mimetype": "text/x-python",
   "name": "python",
   "nbconvert_exporter": "python",
   "pygments_lexer": "ipython3",
   "version": "3.8.17"
  }
 },
 "nbformat": 4,
 "nbformat_minor": 2
}
