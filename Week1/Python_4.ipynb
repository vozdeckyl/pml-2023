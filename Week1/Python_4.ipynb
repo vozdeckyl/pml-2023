{
 "cells": [
  {
   "cell_type": "markdown",
   "id": "5b4c6cf2-c31b-49da-bbdb-e4733317aaec",
   "metadata": {},
   "source": [
    "# Python 4 - Object oriented programming\n",
    "    Copyright (C) 2023 Lubos Vozdecky\n",
    "\n",
    "    This program is free software: you can redistribute it and/or modify\n",
    "    it under the terms of the GNU General Public License as published by\n",
    "    the Free Software Foundation, either version 3 of the License, or\n",
    "    (at your option) any later version.\n",
    "\n",
    "    This program is distributed in the hope that it will be useful,\n",
    "    but WITHOUT ANY WARRANTY; without even the implied warranty of\n",
    "    MERCHANTABILITY or FITNESS FOR A PARTICULAR PURPOSE.  See the\n",
    "    GNU General Public License for more details.\n",
    "\n",
    "    You should have received a copy of the GNU General Public License\n",
    "    along with this program.  If not, see <https://www.gnu.org/licenses/>.\n",
    "    \n",
    "----------------------\n",
    "\n",
    "In this notebook, we will explore the basics of object oriented programming in Python. \n",
    "\n",
    "Object-oriented programming (OOP) is a programming paradigm that organizes code into objects, which are instances of classes representing real-world entities or concepts. Each object encapsulates data (attributes) and behaviors (methods) related to its class, allowing for modularity, reusability, and more manageable code."
   ]
  },
  {
   "cell_type": "markdown",
   "id": "59e22cc8-77fe-47a5-9ba7-335be79644f6",
   "metadata": {},
   "source": [
    "## Introduction\n",
    "\n",
    "Imagine you need to design an appplication that needs to manage some company's employees, their details (name, surname, date of birth) and salaries. The application will also need to perform some operations on the data, such as increasing a salary.\n",
    "\n",
    "One way to go about it, is to represent each employee as a list:"
   ]
  },
  {
   "cell_type": "code",
   "execution_count": null,
   "id": "b7f13b6f-5130-41e0-97c5-decec9507afe",
   "metadata": {},
   "outputs": [],
   "source": [
    "someEmployee = [\"Jack\", \"Carter\", \"05/01/91\", 40500.0]"
   ]
  },
  {
   "cell_type": "markdown",
   "id": "61ca6ef8-058d-48b6-b115-cff5b0febd03",
   "metadata": {},
   "source": [
    "The function for increasing an employee's salary can look like this"
   ]
  },
  {
   "cell_type": "code",
   "execution_count": null,
   "id": "77487d38-26f1-4fcb-842b-fefbef0ef88a",
   "metadata": {},
   "outputs": [],
   "source": [
    "def increaseSalary(employee, increasePercentage):\n",
    "    employee[3] = employee[3] * (1 + increasePercentage / 100.0)"
   ]
  },
  {
   "cell_type": "markdown",
   "id": "289510e7-0552-400b-8485-890fe5167b8a",
   "metadata": {},
   "source": [
    "If we want to have a function that will print an employee's salary, we could do something like this"
   ]
  },
  {
   "cell_type": "code",
   "execution_count": null,
   "id": "416e7fcd-120f-47bd-9b13-8846071f00cc",
   "metadata": {},
   "outputs": [],
   "source": [
    "def printSalary(employee):\n",
    "    name = employee[0]\n",
    "    surname = employee[1]\n",
    "    salary = employee[3]\n",
    "    print(f\"{name} {surname} earns {salary}.\")"
   ]
  },
  {
   "cell_type": "markdown",
   "id": "5e90777e-c975-4870-bbf7-e3e0f6360822",
   "metadata": {},
   "source": [
    "We can now test the two functions we defined"
   ]
  },
  {
   "cell_type": "code",
   "execution_count": null,
   "id": "f21f2d75-bb1d-41db-b966-f6f24320ab74",
   "metadata": {},
   "outputs": [],
   "source": [
    "printSalary(someEmployee )\n",
    "increaseSalary(someEmployee , 10)\n",
    "printSalary(someEmployee )"
   ]
  },
  {
   "cell_type": "markdown",
   "id": "cd965eef-c483-4b84-9a39-191386489960",
   "metadata": {},
   "source": [
    "This is not a very elegant approach because when one looks at the code, it is not immediately obvious what `someEmplyoee[3]` refers to. Is it the salary? Is it the name? Remember, code clarity is important because *code is meant to be read and understood by humans, not computers!*"
   ]
  },
  {
   "cell_type": "markdown",
   "id": "57ca2097-4ada-4706-a6fd-d32519770601",
   "metadata": {},
   "source": [
    "## Classes\n",
    "\n",
    "In the previous section you could see an example of a situation where data (i.e. `someEmployee`) is strongly associated with functions (i.e. `increaseSalary` and `printSalary`). It is very unlikely that you would use those two functions for anything else than manipulating data of a particular employee. There is a much more elegant way how to approach the problem using object oriented programming, which lets you encapsulate both data and functions into objects.\n",
    "\n",
    "First you need to define a class, which will serve as a template for creating objects representing employees:"
   ]
  },
  {
   "cell_type": "code",
   "execution_count": null,
   "id": "9f5e881b-521c-4bd3-8113-d12cda20c600",
   "metadata": {},
   "outputs": [],
   "source": [
    "class Employee:\n",
    "    \"\"\"Class representing an employee.\"\"\"\n",
    "    def __init__(self, name, surname, dateOfBirth, salary):\n",
    "        self.name = name\n",
    "        self.surname = surname\n",
    "        self.dateOfBirth = dateOfBirth\n",
    "        self.salary = salary\n",
    "    \n",
    "    def printSalary(self):\n",
    "        name = self.name\n",
    "        surname = self.surname\n",
    "        salary = self.salary\n",
    "        print(f\"{name} {surname} earns {salary}.\")\n",
    "\n",
    "    def increaseSalary(self, increasePercentage):\n",
    "        self.salary = self.salary * (1 + increasePercentage / 100.0)"
   ]
  },
  {
   "cell_type": "markdown",
   "id": "f0655d91-ffd9-41d9-a550-b4ef84701ff0",
   "metadata": {},
   "source": [
    "where we defined a class called `Employee` in which we defined three functions (sometimes referred to as *methods*). All class methods need to have `self` as their first argument. The first function is a special function called *constructor*. The constructor will be run at the very beginning when an object is created. Its main purpose is to initialise the object's variables. All the object's variables can be initialised and accessed within the class by using `self.<variable name>`. Let's see how this works by creating an instance of the class Employee:"
   ]
  },
  {
   "cell_type": "code",
   "execution_count": null,
   "id": "0f0bbde9-bb1e-4ffe-ac1c-dc7c91a074a2",
   "metadata": {},
   "outputs": [],
   "source": [
    "someEmployee = Employee(\"Michael\", \"Scott\", \"15/05/81\", 85100.0)"
   ]
  },
  {
   "cell_type": "markdown",
   "id": "86ae03d9-85dc-4e58-bc64-3b4127ab906b",
   "metadata": {},
   "source": [
    "We have now created an object representing an employee called Michael Scott. We can refer to it using the variable `someEmployee` that we defined. When creating objects, we always need to use the name of the class and then arguments that will match those of the constructor.\n",
    "\n",
    "**To convince yourself that the constructor is run when an instance is created, add a print statement to the constructor and re-run the cell above.**\n",
    "\n",
    "You can treat `someEmployee` as any variable you've seen before."
   ]
  },
  {
   "cell_type": "code",
   "execution_count": null,
   "id": "65dee0c4-e010-44a7-ab87-329eeceb500c",
   "metadata": {},
   "outputs": [],
   "source": [
    "?someEmployee"
   ]
  },
  {
   "cell_type": "markdown",
   "id": "66edba04-c636-4000-931e-8ab3cd8166af",
   "metadata": {},
   "source": [
    "You can create a list of employees"
   ]
  },
  {
   "cell_type": "code",
   "execution_count": null,
   "id": "53f78ee2-c285-45b6-8d27-2d8867e646df",
   "metadata": {},
   "outputs": [],
   "source": [
    "employees = [\n",
    "    Employee(\"Michael\", \"Scott\", \"15/05/81\", 85100.0),\n",
    "    Employee(\"Dwight\", \"Schrute\", \"19/12/87\", 85100.0),\n",
    "    Employee(\"Jim\", \"Halpert\", \"02/05/85\", 85100.0),\n",
    "    Employee(\"Andy\", \"Bernard\", \"22/04/86\", 85100.0)\n",
    "]   "
   ]
  },
  {
   "cell_type": "markdown",
   "id": "961c37e3-91f7-4ee0-80b8-778dc7bc1923",
   "metadata": {},
   "source": [
    "Most importantly, though, you can call the methods by using dots"
   ]
  },
  {
   "cell_type": "code",
   "execution_count": null,
   "id": "0b3fb3d5-cac4-4e9a-9c0b-f7f95e2f1a46",
   "metadata": {},
   "outputs": [],
   "source": [
    "someEmployee.printSalary()\n",
    "someEmployee.increaseSalary(15)\n",
    "someEmployee.printSalary()"
   ]
  },
  {
   "cell_type": "markdown",
   "id": "daffef27-1fe7-47cb-a89d-e00682625b91",
   "metadata": {},
   "source": [
    "Note that we did not have to specify in the function's argument whose salary we want to print.\n",
    "\n",
    "You can even access the object variables:"
   ]
  },
  {
   "cell_type": "code",
   "execution_count": null,
   "id": "7d84a029-6519-47f0-ac0e-1f95f6dc3e30",
   "metadata": {},
   "outputs": [],
   "source": [
    "print(someEmployee.name)"
   ]
  },
  {
   "cell_type": "markdown",
   "id": "34963f54-aca4-4a2c-b93d-cbc7114d73f0",
   "metadata": {},
   "source": [
    "You can even change them"
   ]
  },
  {
   "cell_type": "code",
   "execution_count": null,
   "id": "856a3264-02db-4e82-921c-0c3eaa9c11d8",
   "metadata": {},
   "outputs": [],
   "source": [
    "someEmployee.surname = \"Jackson\"\n",
    "someEmployee.printSalary()"
   ]
  },
  {
   "cell_type": "markdown",
   "id": "36e99dc7-b394-45b6-9e20-22e016a294f2",
   "metadata": {},
   "source": [
    "**Complete the following class such that the code below it runs without any errors. It should print out each cat's name and age.**"
   ]
  },
  {
   "cell_type": "code",
   "execution_count": null,
   "id": "a5b6ae58-eded-4d8e-8034-0bec977562ad",
   "metadata": {},
   "outputs": [],
   "source": [
    "class Cat:\n",
    "    \"\"\"Class representing a cat.\"\"\""
   ]
  },
  {
   "cell_type": "code",
   "execution_count": null,
   "id": "d8ac1477-0261-4624-aeff-43b63ddebbe3",
   "metadata": {},
   "outputs": [],
   "source": [
    "# this code should run without any errors once the class Cat is implemented correctly\n",
    "\n",
    "cats = [\n",
    "    Cat(\"Mia\", 5),\n",
    "    Cat(\"Lola\", -1),\n",
    "    Cat(\"Rosie\", 2),\n",
    "    Cat(\"Coco\", 9),\n",
    "]\n",
    "\n",
    "# first let's filter out cats with negative age ...\n",
    "real_cats = [cat for cat in cats if cat.get_age() >= 0]\n",
    "\n",
    "for cat in real_cats:\n",
    "    cat.introduce_yourself()"
   ]
  },
  {
   "cell_type": "markdown",
   "id": "26101482-a01d-4293-a0b2-b0c810941540",
   "metadata": {},
   "source": [
    "## Conclusions\n",
    "\n",
    "In this notebook you've been introduced to the basics of object-oriented programming. There is way more to it and we only scratched the surface here. I encourage you to dive deeper if you are interested. However, the material covered in this notebook should be enough to prepare you for the object-oriented code that will be used in TensorFlow."
   ]
  },
  {
   "cell_type": "markdown",
   "id": "2002913b-de0a-494b-8f62-4c8e8f721f90",
   "metadata": {},
   "source": [
    "## Checkpoint 1\n",
    "Ask a demonstrator to check your code! Make sure you understand and can explain what is happening in the following code:\n",
    "\n",
    "`myDog = Dog(\"Ralf\", age = 15)`"
   ]
  }
 ],
 "metadata": {
  "kernelspec": {
   "display_name": "Python 3 (ipykernel)",
   "language": "python",
   "name": "python3"
  },
  "language_info": {
   "codemirror_mode": {
    "name": "ipython",
    "version": 3
   },
   "file_extension": ".py",
   "mimetype": "text/x-python",
   "name": "python",
   "nbconvert_exporter": "python",
   "pygments_lexer": "ipython3",
   "version": "3.8.17"
  }
 },
 "nbformat": 4,
 "nbformat_minor": 5
}
