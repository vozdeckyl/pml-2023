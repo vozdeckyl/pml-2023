{
 "cells": [
  {
   "cell_type": "markdown",
   "id": "103e96f3",
   "metadata": {},
   "source": [
    "# Python 3 #\n",
    "\n",
    "In this notebook we'll revise random numbers, numpy and more matplotlib.  Your work will largely be assessed by the plots you make in the two projects, so make sure you are comfortable making plots in python as soon as possible!"
   ]
  },
  {
   "cell_type": "markdown",
   "id": "cc886d1c",
   "metadata": {},
   "source": [
    "# Random Numbers #\n",
    "\n",
    "Psuedorandom numbers are used widely throughout machine learning and computational physics.  Let's look at the documentation from a couple of important functions:"
   ]
  },
  {
   "cell_type": "code",
   "execution_count": null,
   "id": "3131b6ee",
   "metadata": {},
   "outputs": [],
   "source": [
    "import numpy as np\n",
    "import numpy.random as rnd\n",
    "import matplotlib.pyplot as plt"
   ]
  },
  {
   "cell_type": "code",
   "execution_count": null,
   "id": "7aca9a52",
   "metadata": {},
   "outputs": [],
   "source": [
    "?rnd.random"
   ]
  },
  {
   "cell_type": "code",
   "execution_count": null,
   "id": "24c902d9",
   "metadata": {},
   "outputs": [],
   "source": [
    "?rnd.seed"
   ]
  },
  {
   "cell_type": "markdown",
   "id": "db48aa98",
   "metadata": {},
   "source": [
    "**Using the documentation, and try creating a few arrays of random numbers by exploring these functions below.\n",
    "What happens if you call random:**\n",
    "\n",
    "- with no argument: random()?\n",
    "- with an integer argument: random(3)?\n",
    "- with a tuple argument: random((4, 2))?\n",
    "\n",
    "What happens if you use the same seed? What happens if you change it?\n"
   ]
  },
  {
   "cell_type": "code",
   "execution_count": null,
   "id": "38dcb6c7",
   "metadata": {},
   "outputs": [],
   "source": []
  },
  {
   "cell_type": "markdown",
   "id": "f77697ce",
   "metadata": {},
   "source": [
    "The output of random() gives values between 0 and 1.  With some simple manipulation this can be mapped into other ranges of values.  Read the rnd.random() docstring to see how to map the output of this function to an arbitrary interval $[a,b)$. **Check the rnd.random() docstring and print 20 random numbers in the interval $[-10, 10)$**.\n"
   ]
  },
  {
   "cell_type": "code",
   "execution_count": null,
   "id": "778fdf2f",
   "metadata": {},
   "outputs": [],
   "source": []
  },
  {
   "cell_type": "markdown",
   "id": "d71bbe7e",
   "metadata": {},
   "source": [
    "It is also possible to draw random numbers from a specific distribution.  **Look at the documentation for rnd.normal and then draw 1000 numbers from a gaussian distribution with $\\mu = 5.0$ and $\\sigma=1.0$.**"
   ]
  },
  {
   "cell_type": "code",
   "execution_count": null,
   "id": "4a7d3c3d",
   "metadata": {},
   "outputs": [],
   "source": []
  },
  {
   "cell_type": "markdown",
   "id": "5e1f03d0",
   "metadata": {},
   "source": [
    "**Now plot a histogram with these gaussian random numbers in.  Look up the documentation for matplotlib histograms if you have forgotton how to do this!  How many bins are appropriate?**"
   ]
  },
  {
   "cell_type": "code",
   "execution_count": null,
   "id": "36bbb421",
   "metadata": {},
   "outputs": [],
   "source": []
  },
  {
   "cell_type": "markdown",
   "id": "98768b76",
   "metadata": {},
   "source": [
    "# Checkpoint 1 #\n",
    "\n",
    "Ask a demonstrator to check your code!"
   ]
  },
  {
   "cell_type": "markdown",
   "id": "714d4cce",
   "metadata": {},
   "source": [
    "# Plotting Images #\n",
    "\n",
    "It is easy to plot images with matplotlib.  One thing to note is that the default y-axis direction is down, you can flip this using the origin arguement to imshow."
   ]
  },
  {
   "cell_type": "code",
   "execution_count": null,
   "id": "ba4a989b",
   "metadata": {},
   "outputs": [],
   "source": [
    "data = np.ones((10,10))\n",
    "plt.figure()\n",
    "plt.imshow(data, origin='lower')\n",
    "plt.colorbar()"
   ]
  },
  {
   "cell_type": "markdown",
   "id": "66818ba2",
   "metadata": {},
   "source": [
    "This is a pretty boring image.  Let's add some random noise to our data and the plot again.  **Add gaussian random noise with $\\sigma = 0.1$ to the data and plot again**"
   ]
  },
  {
   "cell_type": "code",
   "execution_count": null,
   "id": "6a197f7b",
   "metadata": {},
   "outputs": [],
   "source": []
  },
  {
   "cell_type": "markdown",
   "id": "85039d2f",
   "metadata": {},
   "source": [
    "# Subplots #\n",
    "\n",
    "We can also make multiple subplots with matplotlib, check out the documentation:"
   ]
  },
  {
   "cell_type": "code",
   "execution_count": null,
   "id": "0bb2d63b",
   "metadata": {},
   "outputs": [],
   "source": [
    "?plt.subplot"
   ]
  },
  {
   "cell_type": "markdown",
   "id": "eb8d0416",
   "metadata": {},
   "source": [
    "**Now use a loop to make a 3x3 array of subplots adding different amounts of gaussian noise to each, with $\\sigma = 0.1, 0.2, ..., 0.9$.  Label each subplot with the value of $\\sigma$**"
   ]
  },
  {
   "cell_type": "code",
   "execution_count": null,
   "id": "cc2011aa",
   "metadata": {},
   "outputs": [],
   "source": []
  },
  {
   "cell_type": "markdown",
   "id": "6f75e41d",
   "metadata": {},
   "source": [
    "# Checkpoint 2 #\n",
    "Ask a demonstrator to check your code!"
   ]
  },
  {
   "cell_type": "markdown",
   "id": "94733065",
   "metadata": {},
   "source": [
    "**Now repeat the same exercise from above, but instead of starting from an array containing all ones, start with an array of random integers drawn from $[10,20)$**"
   ]
  },
  {
   "cell_type": "code",
   "execution_count": null,
   "id": "ca11ee23",
   "metadata": {},
   "outputs": [],
   "source": []
  },
  {
   "cell_type": "markdown",
   "id": "b07cfae0",
   "metadata": {},
   "source": [
    "# Checkpoint 3 #\n",
    "Ask a demonstrator to check your code!"
   ]
  }
 ],
 "metadata": {
  "kernelspec": {
   "display_name": "Python 3 (ipykernel)",
   "language": "python",
   "name": "python3"
  },
  "language_info": {
   "codemirror_mode": {
    "name": "ipython",
    "version": 3
   },
   "file_extension": ".py",
   "mimetype": "text/x-python",
   "name": "python",
   "nbconvert_exporter": "python",
   "pygments_lexer": "ipython3",
   "version": "3.10.12"
  }
 },
 "nbformat": 4,
 "nbformat_minor": 5
}
