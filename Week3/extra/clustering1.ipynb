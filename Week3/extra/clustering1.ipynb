{
 "cells": [
  {
   "cell_type": "code",
   "execution_count": null,
   "id": "9d70b69e",
   "metadata": {},
   "outputs": [],
   "source": [
    "import numpy as np\n",
    "import matplotlib.pyplot as plt\n",
    "%matplotlib inline\n",
    "from pydataset import data"
   ]
  },
  {
   "cell_type": "markdown",
   "id": "345dfea9",
   "metadata": {},
   "source": [
    "We're going to work with some pre-defined data sets originally used in R:"
   ]
  },
  {
   "cell_type": "code",
   "execution_count": null,
   "id": "2edccfe5",
   "metadata": {},
   "outputs": [],
   "source": [
    "datasets = data()\n",
    "print(datasets)"
   ]
  },
  {
   "cell_type": "markdown",
   "id": "72c5379e",
   "metadata": {},
   "source": [
    "We'll use the 'quakes' dataset, what is it?  Read the documentation to find out:"
   ]
  },
  {
   "cell_type": "code",
   "execution_count": null,
   "id": "9d0c4175",
   "metadata": {},
   "outputs": [],
   "source": [
    "data('quakes', show_doc=True)\n",
    "df = data('quakes')\n",
    "print(df)"
   ]
  },
  {
   "cell_type": "markdown",
   "id": "1dff16f1",
   "metadata": {},
   "source": [
    "**Make a scatter plot of the latitudes and longitudes of the earthquakes**"
   ]
  },
  {
   "cell_type": "code",
   "execution_count": null,
   "id": "03f13010",
   "metadata": {},
   "outputs": [],
   "source": []
  },
  {
   "cell_type": "markdown",
   "id": "b6c555d4",
   "metadata": {},
   "source": [
    "**Now make another scatter plot showing the latitudes and longitudes, but with the marker size representing the magnitude and the colour representing the depth**  Hint - scale the magnitudes to 20*(mag - min_mag)/(max_mag-min_mag)"
   ]
  },
  {
   "cell_type": "code",
   "execution_count": null,
   "id": "a219707e",
   "metadata": {},
   "outputs": [],
   "source": []
  },
  {
   "cell_type": "markdown",
   "id": "6c1e6b80",
   "metadata": {},
   "source": [
    "What can you say about the depths of the earthquakes?"
   ]
  },
  {
   "cell_type": "markdown",
   "id": "9107ca43",
   "metadata": {},
   "source": [
    "**Now use the KMeans algorithm from scikit learn to cluster the eartquake locations according to their latitude and longitude.  How many clusters are appropriate?  Hint - look at the documentation for the dataset!**"
   ]
  },
  {
   "cell_type": "code",
   "execution_count": null,
   "id": "11dcea20",
   "metadata": {},
   "outputs": [],
   "source": [
    "from sklearn.cluster import KMeans\n"
   ]
  },
  {
   "cell_type": "markdown",
   "id": "02a23607",
   "metadata": {},
   "source": [
    "**Make a scatter plot showing the cluster each earthquake belongs to**"
   ]
  },
  {
   "cell_type": "code",
   "execution_count": null,
   "id": "dea3d47d",
   "metadata": {},
   "outputs": [],
   "source": []
  },
  {
   "cell_type": "markdown",
   "id": "de4b46cc",
   "metadata": {},
   "source": [
    "**Now perform KMeans clustering on the latitude, longitude and depth without scaling the inputs.  Plot the resulting clusters.  What do you notice?**"
   ]
  },
  {
   "cell_type": "code",
   "execution_count": null,
   "id": "1395d6d8",
   "metadata": {},
   "outputs": [],
   "source": []
  },
  {
   "cell_type": "markdown",
   "id": "1f2dfdad",
   "metadata": {},
   "source": [
    "**Now perform clustering on the same three variables but this time normalize them (tip - use normalize from sklearn.preprocessing with axis=0).  Plot your results as lat vs long, long vs depth and lat vs depth.  What do you notice?**"
   ]
  },
  {
   "cell_type": "code",
   "execution_count": null,
   "id": "aa2fce47",
   "metadata": {},
   "outputs": [],
   "source": []
  },
  {
   "cell_type": "markdown",
   "id": "6c1ee9fd",
   "metadata": {},
   "source": [
    "**Now make a scatter plot of the magnitutes against the number of stations.  Is there a correlation?  Does this make sense?**"
   ]
  },
  {
   "cell_type": "code",
   "execution_count": null,
   "id": "04360e67",
   "metadata": {},
   "outputs": [],
   "source": [
    "\n",
    "\n",
    "\n"
   ]
  },
  {
   "cell_type": "markdown",
   "id": "79291b84",
   "metadata": {},
   "source": [
    "**Now use a neural network with a linear output to predict the number of stations given an earthquake magnitude.  Hint - we did similar things in weeks 2 and 3!  Plot your results and the training history.**"
   ]
  },
  {
   "cell_type": "code",
   "execution_count": null,
   "id": "c0cbfa7b",
   "metadata": {},
   "outputs": [],
   "source": []
  }
 ],
 "metadata": {
  "kernelspec": {
   "display_name": "Python 3 (ipykernel)",
   "language": "python",
   "name": "python3"
  },
  "language_info": {
   "codemirror_mode": {
    "name": "ipython",
    "version": 3
   },
   "file_extension": ".py",
   "mimetype": "text/x-python",
   "name": "python",
   "nbconvert_exporter": "python",
   "pygments_lexer": "ipython3",
   "version": "3.8.17"
  }
 },
 "nbformat": 4,
 "nbformat_minor": 5
}
