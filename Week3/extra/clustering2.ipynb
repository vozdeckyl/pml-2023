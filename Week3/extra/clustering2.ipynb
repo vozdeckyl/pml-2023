{
 "cells": [
  {
   "cell_type": "code",
   "execution_count": null,
   "id": "9d70b69e",
   "metadata": {},
   "outputs": [],
   "source": [
    "import numpy as np\n",
    "import matplotlib.pyplot as plt\n",
    "%matplotlib inline\n",
    "from pydataset import data"
   ]
  },
  {
   "cell_type": "markdown",
   "id": "345dfea9",
   "metadata": {},
   "source": [
    "We're going to work with some pre-defined data sets originally used in R:"
   ]
  },
  {
   "cell_type": "code",
   "execution_count": null,
   "id": "2edccfe5",
   "metadata": {},
   "outputs": [],
   "source": [
    "datasets = data()\n",
    "print(datasets)"
   ]
  },
  {
   "cell_type": "markdown",
   "id": "72c5379e",
   "metadata": {},
   "source": [
    "We'll use the 'iris' dataset, what is it?  Read the documentation to find out:"
   ]
  },
  {
   "cell_type": "code",
   "execution_count": null,
   "id": "9d0c4175",
   "metadata": {},
   "outputs": [],
   "source": [
    "data('iris', show_doc=True)\n",
    "df = data('iris')\n",
    "print(df)"
   ]
  },
  {
   "cell_type": "markdown",
   "id": "1dff16f1",
   "metadata": {},
   "source": [
    "**Make a scatter plot of the petal lengths against petal widths and colour the points by the true class label (species)**"
   ]
  },
  {
   "cell_type": "code",
   "execution_count": null,
   "id": "03f13010",
   "metadata": {},
   "outputs": [],
   "source": []
  },
  {
   "cell_type": "markdown",
   "id": "8d349f62",
   "metadata": {},
   "source": [
    "**Use the KMeans clustering algorithm to find clusters.  How many clusters should you choose?  Remember to normalise your inputs (axis=0)**"
   ]
  },
  {
   "cell_type": "code",
   "execution_count": null,
   "id": "2f5cd151",
   "metadata": {},
   "outputs": [],
   "source": []
  },
  {
   "cell_type": "markdown",
   "id": "229303eb",
   "metadata": {},
   "source": [
    "**Make two subplots of petal widths against petal lengths, one with the colous of the points as the true label and one with the colours of the predicted cluster.  How well is the clustering doing?**"
   ]
  },
  {
   "cell_type": "code",
   "execution_count": null,
   "id": "1af937c1",
   "metadata": {},
   "outputs": [],
   "source": []
  },
  {
   "cell_type": "markdown",
   "id": "d0ac264a",
   "metadata": {},
   "source": [
    "**Now make and train a neural network to predict the class, don't forget your train test split!**"
   ]
  },
  {
   "cell_type": "code",
   "execution_count": null,
   "id": "2c97f03a",
   "metadata": {},
   "outputs": [],
   "source": []
  },
  {
   "cell_type": "markdown",
   "id": "cf0b74c8",
   "metadata": {},
   "source": [
    "**Make plots of the loss and accuracy for the training and test sets**"
   ]
  },
  {
   "cell_type": "code",
   "execution_count": null,
   "id": "e487d194",
   "metadata": {},
   "outputs": [],
   "source": []
  },
  {
   "cell_type": "markdown",
   "id": "5c961c1b",
   "metadata": {},
   "source": [
    "**Make three subplots of petal widths against petal lengths, one coloured by the true class label, one by the clustering prediction and one by the neural network prediction.  How does the accuracy compare?  What advantage can the neural network prediction give in the case that you do have labelled data?**"
   ]
  },
  {
   "cell_type": "code",
   "execution_count": null,
   "id": "720af424",
   "metadata": {},
   "outputs": [],
   "source": []
  }
 ],
 "metadata": {
  "kernelspec": {
   "display_name": "Python 3 (ipykernel)",
   "language": "python",
   "name": "python3"
  },
  "language_info": {
   "codemirror_mode": {
    "name": "ipython",
    "version": 3
   },
   "file_extension": ".py",
   "mimetype": "text/x-python",
   "name": "python",
   "nbconvert_exporter": "python",
   "pygments_lexer": "ipython3",
   "version": "3.8.17"
  }
 },
 "nbformat": 4,
 "nbformat_minor": 5
}
